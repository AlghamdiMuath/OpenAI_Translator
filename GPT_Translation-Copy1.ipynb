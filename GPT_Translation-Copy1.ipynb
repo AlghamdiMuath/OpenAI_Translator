{
 "cells": [
  {
   "cell_type": "code",
   "execution_count": 1,
   "id": "187cc302",
   "metadata": {},
   "outputs": [],
   "source": [
    "import textwrap\n",
    "import os\n",
    "import openai\n",
    "import tiktoken\n",
    "from dotenv import load_dotenv, find_dotenv\n",
    "_ = load_dotenv(find_dotenv()) # read local .env file"
   ]
  },
  {
   "cell_type": "code",
   "execution_count": 3,
   "id": "df0246fe",
   "metadata": {
    "scrolled": false
   },
   "outputs": [
    {
     "name": "stdout",
     "output_type": "stream",
     "text": [
      "235 235\n"
     ]
    }
   ],
   "source": [
    "def wrap_text(text, width=120):\n",
    "    wrapper = textwrap.TextWrapper(width=width)\n",
    "    return wrapper.fill(text=text)\n",
    "\n",
    "def tokenize_file(file_path,model):\n",
    "    with open(file_path, 'r', encoding=\"utf8\") as file:\n",
