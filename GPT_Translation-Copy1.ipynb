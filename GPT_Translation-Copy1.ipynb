{
 "cells": [
  {
   "cell_type": "code",
   "execution_count": 1,
   "id": "187cc302",
   "metadata": {},
   "outputs": [],
   "source": [
    "import textwrap\n",
    "import os\n",
    "import openai\n",
    "import tiktoken\n",
    "from dotenv import load_dotenv, find_dotenv\n",
    "_ = load_dotenv(find_dotenv()) # read local .env file"
   ]
  },
  {
   "cell_type": "code",
   "execution_count": 3,
   "id": "df0246fe",
   "metadata": {
    "scrolled": false
   },
   "outputs": [
    {
     "name": "stdout",
     "output_type": "stream",
     "text": [
      "235 235\n"
     ]
    }
   ],
   "source": [
    "def wrap_text(text, width=120):\n",
    "    wrapper = textwrap.TextWrapper(width=width)\n",
    "    return wrapper.fill(text=text)\n",
    "\n",
    "def tokenize_file(file_path,model):\n",
    "    with open(file_path, 'r', encoding=\"utf8\") as file:\n",
    "        text = file.read()\n",
    "    encoding = tiktoken.get_encoding(model)\n",
    "    tokens = encoding.encode(text)\n",
    "    return tokens\n",
    "\n",
    "def split_tokens_into_chunks(tokens, chunk_size):\n",
    "    num_chunks = (len(tokens) + chunk_size - 1) // chunk_size\n",
    "    chunks = [tokens[i * chunk_size:(i + 1) * chunk_size] for i in range(num_chunks)]\n",
    "    return chunks\n",
    "\n",
    "def convert_token_Chunks_into_text(token_chunks,model):\n",
    "    encoding = tiktoken.get_encoding(model)\n",
    "    text_chunks=[]\n",
    "    for chunk in token_chunks:\n",
    "        text_chunks.append(encoding.decode(chunk))\n",
    "    return text_chunks\n",
    "\n",
    "def get_completion(prompt, model=\"gpt-3.5-turbo\"):\n",
    "\n",
    "    messages = [{\"role\": \"user\", \"content\": prompt}]\n",
    "    response = openai.ChatCompletion.create(\n",
    "\n",
    "model=model,\n",
    "\n",
    "messages=messages,\n",
    "\n",
    "temperature=0,\n",
    "\n",
    "    )\n",
    "\n",
