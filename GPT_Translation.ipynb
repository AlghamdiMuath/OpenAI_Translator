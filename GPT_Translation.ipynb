{
 "cells": [
  {
   "cell_type": "code",
   "execution_count": 2,
   "id": "187cc302",
   "metadata": {},
   "outputs": [],
   "source": [
    "# Importing necessary libraries\n",
    "import textwrap\n",
    "import os\n",
    "import openai\n",
    "import tiktoken\n",
    "from dotenv import load_dotenv, find_dotenv\n",
    "\n",
    "# Load environment variables from a .env file\n",
    "_ = load_dotenv(find_dotenv())"
   ]
  },
  {
   "cell_type": "code",
   "execution_count": 18,
   "id": "df0246fe",
   "metadata": {
    "scrolled": false
   },
   "outputs": [],
   "source": [
    "# Function to wrap text to a specified width\n",
    "def wrap_text_to_fixed_width(text, width=120):\n",
    "    wrapper = textwrap.TextWrapper(width=width)\n",
    "    return wrapper.fill(text=text)\n",
    "\n",
    "# Function to tokenize the content of a given text file\n",
    "def tokenize_text_from_file(file_path, model):\n",
    "    with open(file_path, 'r', encoding=\"utf8\") as file:\n",
    "        text = file.read()\n",
    "    encoding = tiktoken.get_encoding(model)\n",
    "    tokens = encoding.encode(text)\n",
    "    return tokens\n",
    "\n",
    "# Function to split tokens into smaller chunks based on a given size\n",
    "def partition_tokens_into_chunks(tokens, max_chunk_size):\n",
    "    num_chunks = (len(tokens) + max_chunk_size - 1) // max_chunk_size\n",
    "    chunks = [tokens[i * max_chunk_size:(i + 1) * max_chunk_size] for i in range(num_chunks)]\n",
    "    return chunks\n",
    "\n",
    "# Function to convert token chunks back into text form\n",
    "def convert_chunks_to_text(token_chunks, model):\n",
    "    encoding = tiktoken.get_encoding(model)\n",
    "    text_chunks = [encoding.decode(chunk) for chunk in token_chunks]\n",
    "    return text_chunks\n",
    "\n",
    "# Function to get translated text using OpenAI's model\n",
    "def get_translated_text(prompt, model=\"gpt-3.5-turbo\"):\n",
    "    messages = [{\"role\": \"user\", \"content\": prompt}]\n",
    "    response = openai.ChatCompletion.create(\n",
    "        model=model,\n",
    "        messages=messages,\n",
    "        temperature=0,\n",
    "    )\n",
    "    return response.choices[0].message[\"content\"]\n",
    "\n",
    "# Function to execute the entire translation process\n",
    "def execute_translation(template, text_to_translate):\n",
    "    query = template + text_to_translate\n",
    "    arabic_text = get_translated_text(query)\n",
    "    return arabic_text"
   ]
  },
  {
   "cell_type": "code",
   "execution_count": 19,
   "id": "4c1bb7bc",
   "metadata": {},
   "outputs": [],
   "source": [
    "# Main Execution Code\n",
    "if __name__ == \"__main__\":\n",
    "    input_file_path = 'INPUT_FILE'\n",
    "    output_file_path = 'OUTPUT_FILE'\n",
    "    max_chunk_size = 1000\n",
    "    model_name = \"cl100k_base\"\n",
    "\n",
    "    # Tokenization and Chunking\n",
    "    tokens = tokenize_text_from_file(input_file_path, model_name)\n",
    "    token_chunks = partition_tokens_into_chunks(tokens, max_chunk_size)\n",
    "    text_chunks = convert_chunks_to_text(token_chunks, model_name)\n",
    "\n",
    "    translation_template = '''You are a professional translator,\n",
    "    you excel in translating from English to Arabic\n",
    "    word for word maintaining the structure and the context.\\\n",
    "    Your task is to translate the following English text to \\\n",
    "    Arabic perfectly and without missing any words.\\\n",
    "\n",
    "    English text: '''\n",
    "    \n",
    "    # Translation and Writing to File\n",
    "    for text_chunk in text_chunks:\n",
    "        translated_text = execute_translation(translation_template, text_chunk)\n",
    "        with open(output_file_path, 'a', encoding='utf-8') as output_file:\n",
    "            output_file.write(translated_text)"
   ]
  }
 ],
 "metadata": {
  "kernelspec": {
   "display_name": "Python 3 (ipykernel)",
   "language": "python",
   "name": "python3"
  },
  "language_info": {
   "codemirror_mode": {
    "name": "ipython",
    "version": 3
   },
   "file_extension": ".py",
   "mimetype": "text/x-python",
   "name": "python",
   "nbconvert_exporter": "python",
   "pygments_lexer": "ipython3",
   "version": "3.11.3"
  },
  "toc": {
   "base_numbering": 1,
   "nav_menu": {},
   "number_sections": true,
   "sideBar": true,
   "skip_h1_title": false,
   "title_cell": "Table of Contents",
   "title_sidebar": "Contents",
   "toc_cell": false,
   "toc_position": {},
   "toc_section_display": true,
   "toc_window_display": false
  }
 },
 "nbformat": 4,
 "nbformat_minor": 5
}
